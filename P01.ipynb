{
  "nbformat": 4,
  "nbformat_minor": 0,
  "metadata": {
    "colab": {
      "provenance": []
    },
    "kernelspec": {
      "name": "python3",
      "display_name": "Python 3"
    },
    "language_info": {
      "name": "python"
    }
  },
  "cells": [
    {
      "cell_type": "code",
      "execution_count": 6,
      "metadata": {
        "id": "u2AK7W_QmPwf"
      },
      "outputs": [],
      "source": [
        "import pandas as pd\n",
        "import numpy as np\n",
        "import scipy.stats as stat"
      ]
    },
    {
      "cell_type": "code",
      "source": [
        "!wget \"https://www.dropbox.com/s/wti4hu2mth7cze5/STAT%20S01V15.zip\""
      ],
      "metadata": {
        "colab": {
          "base_uri": "https://localhost:8080/"
        },
        "id": "B-vcDZbLmVeg",
        "outputId": "ece0ce67-3fec-47bb-ba82-92b8c8312c3a"
      },
      "execution_count": 8,
      "outputs": [
        {
          "output_type": "stream",
          "name": "stdout",
          "text": [
            "--2024-04-08 21:29:23--  https://www.dropbox.com/s/wti4hu2mth7cze5/STAT%20S01V15.zip\n",
            "Resolving www.dropbox.com (www.dropbox.com)... 162.125.2.18, 2620:100:601c:18::a27d:612\n",
            "Connecting to www.dropbox.com (www.dropbox.com)|162.125.2.18|:443... connected.\n",
            "HTTP request sent, awaiting response... 302 Found\n",
            "Location: /s/raw/wti4hu2mth7cze5/STAT%20S01V15.zip [following]\n",
            "--2024-04-08 21:29:23--  https://www.dropbox.com/s/raw/wti4hu2mth7cze5/STAT%20S01V15.zip\n",
            "Reusing existing connection to www.dropbox.com:443.\n",
            "HTTP request sent, awaiting response... 302 Found\n",
            "Location: https://uc54bd5cc243351f12185ab34593.dl.dropboxusercontent.com/cd/0/inline/CQp3wXbsdgwCocb6WI399elCiO8htumDuvV74f_z01W0sgjJKNEzPg0BAcOjzaTkp64JV9ZqdQ3sUHyXeJVuTudp381_z4tfiuWF3xMNZGFUMp_MrxMjj92vK18EM7mGONle0n9FE--cTHSaLkzy_fG4/file# [following]\n",
            "--2024-04-08 21:29:24--  https://uc54bd5cc243351f12185ab34593.dl.dropboxusercontent.com/cd/0/inline/CQp3wXbsdgwCocb6WI399elCiO8htumDuvV74f_z01W0sgjJKNEzPg0BAcOjzaTkp64JV9ZqdQ3sUHyXeJVuTudp381_z4tfiuWF3xMNZGFUMp_MrxMjj92vK18EM7mGONle0n9FE--cTHSaLkzy_fG4/file\n",
            "Resolving uc54bd5cc243351f12185ab34593.dl.dropboxusercontent.com (uc54bd5cc243351f12185ab34593.dl.dropboxusercontent.com)... 162.125.2.15, 2620:100:6017:15::a27d:20f\n",
            "Connecting to uc54bd5cc243351f12185ab34593.dl.dropboxusercontent.com (uc54bd5cc243351f12185ab34593.dl.dropboxusercontent.com)|162.125.2.15|:443... connected.\n",
            "HTTP request sent, awaiting response... 302 Found\n",
            "Location: /cd/0/inline2/CQoaLfe9LeUwOIMA10Zhoc0oCx0roD4kvB58sadDB_Hnp_9CmvPR0f6iEkr_e7T4bzg1sETTTsEGPdLPLyoiaiaIATwVuWC0nugAR1BZ23Tsw2MZYd9bCodnh73H5KO0Wp-YG327poqvyHLbuC-WtNwgJnhJDOy_nmMoBPsaljpoMLBzdfORrZK00drvhbbSwdVFgf7r9js-Byp4C6FIhtgHPahMwpSh_poOZyJTea7WZtmgHIQ9wEpZGpjD495Dpue37xqaqh25hdJ-hPdP-yQMQvgydCUhqkLaOe8PNRHjZ6gqpiB3kq6JlM5CPqTNXiD_oMKtR4b6zFvoxa0f8pIai1xp1YgOHQXJgvOt8jJuB01oXfw3xXqHD95G2EzOcWI/file [following]\n",
            "--2024-04-08 21:29:24--  https://uc54bd5cc243351f12185ab34593.dl.dropboxusercontent.com/cd/0/inline2/CQoaLfe9LeUwOIMA10Zhoc0oCx0roD4kvB58sadDB_Hnp_9CmvPR0f6iEkr_e7T4bzg1sETTTsEGPdLPLyoiaiaIATwVuWC0nugAR1BZ23Tsw2MZYd9bCodnh73H5KO0Wp-YG327poqvyHLbuC-WtNwgJnhJDOy_nmMoBPsaljpoMLBzdfORrZK00drvhbbSwdVFgf7r9js-Byp4C6FIhtgHPahMwpSh_poOZyJTea7WZtmgHIQ9wEpZGpjD495Dpue37xqaqh25hdJ-hPdP-yQMQvgydCUhqkLaOe8PNRHjZ6gqpiB3kq6JlM5CPqTNXiD_oMKtR4b6zFvoxa0f8pIai1xp1YgOHQXJgvOt8jJuB01oXfw3xXqHD95G2EzOcWI/file\n",
            "Reusing existing connection to uc54bd5cc243351f12185ab34593.dl.dropboxusercontent.com:443.\n",
            "HTTP request sent, awaiting response... 200 OK\n",
            "Length: 17518598 (17M) [application/zip]\n",
            "Saving to: ‘STAT S01V15.zip.1’\n",
            "\n",
            "STAT S01V15.zip.1   100%[===================>]  16.71M  47.6MB/s    in 0.4s    \n",
            "\n",
            "2024-04-08 21:29:25 (47.6 MB/s) - ‘STAT S01V15.zip.1’ saved [17518598/17518598]\n",
            "\n",
            "unzip:  cannot find or open  STAT 20S01v15.zip,  STAT 20S01v15.zip.zip or  STAT 20S01v15.zip.ZIP.\n"
          ]
        }
      ]
    },
    {
      "cell_type": "code",
      "source": [
        "!unzip \"STAT S01V15.zip\""
      ],
      "metadata": {
        "colab": {
          "base_uri": "https://localhost:8080/"
        },
        "id": "8pvVXiSLnws1",
        "outputId": "cddb9062-d997-4252-e550-359b4720d73f"
      },
      "execution_count": 10,
      "outputs": [
        {
          "output_type": "stream",
          "name": "stdout",
          "text": [
            "Archive:  STAT S01V15.zip\n",
            "  inflating: winemag-data_first150k.csv  \n"
          ]
        }
      ]
    },
    {
      "cell_type": "code",
      "source": [
        "df = pd.read_csv(\"winemag-data_first150k.csv\")"
      ],
      "metadata": {
        "id": "z0s_hfu0nFLd"
      },
      "execution_count": 63,
      "outputs": []
    },
    {
      "cell_type": "code",
      "source": [
        "df.head()"
      ],
      "metadata": {
        "colab": {
          "base_uri": "https://localhost:8080/",
          "height": 573
        },
        "id": "cJg-4VOxn6n4",
        "outputId": "c1027454-faec-4c22-80c9-7a1ad818a715"
      },
      "execution_count": 13,
      "outputs": [
        {
          "output_type": "execute_result",
          "data": {
            "text/plain": [
              "   Unnamed: 0 country                                        description  \\\n",
              "0           0      US  This tremendous 100% varietal wine hails from ...   \n",
              "1           1   Spain  Ripe aromas of fig, blackberry and cassis are ...   \n",
              "2           2      US  Mac Watson honors the memory of a wine once ma...   \n",
              "3           3      US  This spent 20 months in 30% new French oak, an...   \n",
              "4           4  France  This is the top wine from La Bégude, named aft...   \n",
              "\n",
              "                            designation  points  price        province  \\\n",
              "0                     Martha's Vineyard      96  235.0      California   \n",
              "1  Carodorum Selección Especial Reserva      96  110.0  Northern Spain   \n",
              "2         Special Selected Late Harvest      96   90.0      California   \n",
              "3                               Reserve      96   65.0          Oregon   \n",
              "4                            La Brûlade      95   66.0        Provence   \n",
              "\n",
              "            region_1           region_2             variety  \\\n",
              "0        Napa Valley               Napa  Cabernet Sauvignon   \n",
              "1               Toro                NaN       Tinta de Toro   \n",
              "2     Knights Valley             Sonoma     Sauvignon Blanc   \n",
              "3  Willamette Valley  Willamette Valley          Pinot Noir   \n",
              "4             Bandol                NaN  Provence red blend   \n",
              "\n",
              "                    winery  \n",
              "0                    Heitz  \n",
              "1  Bodega Carmen Rodríguez  \n",
              "2                 Macauley  \n",
              "3                    Ponzi  \n",
              "4     Domaine de la Bégude  "
            ],
            "text/html": [
              "\n",
              "  <div id=\"df-df0ef4bc-1c17-4628-bc31-95e2c615d0a1\" class=\"colab-df-container\">\n",
              "    <div>\n",
              "<style scoped>\n",
              "    .dataframe tbody tr th:only-of-type {\n",
              "        vertical-align: middle;\n",
              "    }\n",
              "\n",
              "    .dataframe tbody tr th {\n",
              "        vertical-align: top;\n",
              "    }\n",
              "\n",
              "    .dataframe thead th {\n",
              "        text-align: right;\n",
              "    }\n",
              "</style>\n",
              "<table border=\"1\" class=\"dataframe\">\n",
              "  <thead>\n",
              "    <tr style=\"text-align: right;\">\n",
              "      <th></th>\n",
              "      <th>Unnamed: 0</th>\n",
              "      <th>country</th>\n",
              "      <th>description</th>\n",
              "      <th>designation</th>\n",
              "      <th>points</th>\n",
              "      <th>price</th>\n",
              "      <th>province</th>\n",
              "      <th>region_1</th>\n",
              "      <th>region_2</th>\n",
              "      <th>variety</th>\n",
              "      <th>winery</th>\n",
              "    </tr>\n",
              "  </thead>\n",
              "  <tbody>\n",
              "    <tr>\n",
              "      <th>0</th>\n",
              "      <td>0</td>\n",
              "      <td>US</td>\n",
              "      <td>This tremendous 100% varietal wine hails from ...</td>\n",
              "      <td>Martha's Vineyard</td>\n",
              "      <td>96</td>\n",
              "      <td>235.0</td>\n",
              "      <td>California</td>\n",
              "      <td>Napa Valley</td>\n",
              "      <td>Napa</td>\n",
              "      <td>Cabernet Sauvignon</td>\n",
              "      <td>Heitz</td>\n",
              "    </tr>\n",
              "    <tr>\n",
              "      <th>1</th>\n",
              "      <td>1</td>\n",
              "      <td>Spain</td>\n",
              "      <td>Ripe aromas of fig, blackberry and cassis are ...</td>\n",
              "      <td>Carodorum Selección Especial Reserva</td>\n",
              "      <td>96</td>\n",
              "      <td>110.0</td>\n",
              "      <td>Northern Spain</td>\n",
              "      <td>Toro</td>\n",
              "      <td>NaN</td>\n",
              "      <td>Tinta de Toro</td>\n",
              "      <td>Bodega Carmen Rodríguez</td>\n",
              "    </tr>\n",
              "    <tr>\n",
              "      <th>2</th>\n",
              "      <td>2</td>\n",
              "      <td>US</td>\n",
              "      <td>Mac Watson honors the memory of a wine once ma...</td>\n",
              "      <td>Special Selected Late Harvest</td>\n",
              "      <td>96</td>\n",
              "      <td>90.0</td>\n",
              "      <td>California</td>\n",
              "      <td>Knights Valley</td>\n",
              "      <td>Sonoma</td>\n",
              "      <td>Sauvignon Blanc</td>\n",
              "      <td>Macauley</td>\n",
              "    </tr>\n",
              "    <tr>\n",
              "      <th>3</th>\n",
              "      <td>3</td>\n",
              "      <td>US</td>\n",
              "      <td>This spent 20 months in 30% new French oak, an...</td>\n",
              "      <td>Reserve</td>\n",
              "      <td>96</td>\n",
              "      <td>65.0</td>\n",
              "      <td>Oregon</td>\n",
              "      <td>Willamette Valley</td>\n",
              "      <td>Willamette Valley</td>\n",
              "      <td>Pinot Noir</td>\n",
              "      <td>Ponzi</td>\n",
              "    </tr>\n",
              "    <tr>\n",
              "      <th>4</th>\n",
              "      <td>4</td>\n",
              "      <td>France</td>\n",
              "      <td>This is the top wine from La Bégude, named aft...</td>\n",
              "      <td>La Brûlade</td>\n",
              "      <td>95</td>\n",
              "      <td>66.0</td>\n",
              "      <td>Provence</td>\n",
              "      <td>Bandol</td>\n",
              "      <td>NaN</td>\n",
              "      <td>Provence red blend</td>\n",
              "      <td>Domaine de la Bégude</td>\n",
              "    </tr>\n",
              "  </tbody>\n",
              "</table>\n",
              "</div>\n",
              "    <div class=\"colab-df-buttons\">\n",
              "\n",
              "  <div class=\"colab-df-container\">\n",
              "    <button class=\"colab-df-convert\" onclick=\"convertToInteractive('df-df0ef4bc-1c17-4628-bc31-95e2c615d0a1')\"\n",
              "            title=\"Convert this dataframe to an interactive table.\"\n",
              "            style=\"display:none;\">\n",
              "\n",
              "  <svg xmlns=\"http://www.w3.org/2000/svg\" height=\"24px\" viewBox=\"0 -960 960 960\">\n",
              "    <path d=\"M120-120v-720h720v720H120Zm60-500h600v-160H180v160Zm220 220h160v-160H400v160Zm0 220h160v-160H400v160ZM180-400h160v-160H180v160Zm440 0h160v-160H620v160ZM180-180h160v-160H180v160Zm440 0h160v-160H620v160Z\"/>\n",
              "  </svg>\n",
              "    </button>\n",
              "\n",
              "  <style>\n",
              "    .colab-df-container {\n",
              "      display:flex;\n",
              "      gap: 12px;\n",
              "    }\n",
              "\n",
              "    .colab-df-convert {\n",
              "      background-color: #E8F0FE;\n",
              "      border: none;\n",
              "      border-radius: 50%;\n",
              "      cursor: pointer;\n",
              "      display: none;\n",
              "      fill: #1967D2;\n",
              "      height: 32px;\n",
              "      padding: 0 0 0 0;\n",
              "      width: 32px;\n",
              "    }\n",
              "\n",
              "    .colab-df-convert:hover {\n",
              "      background-color: #E2EBFA;\n",
              "      box-shadow: 0px 1px 2px rgba(60, 64, 67, 0.3), 0px 1px 3px 1px rgba(60, 64, 67, 0.15);\n",
              "      fill: #174EA6;\n",
              "    }\n",
              "\n",
              "    .colab-df-buttons div {\n",
              "      margin-bottom: 4px;\n",
              "    }\n",
              "\n",
              "    [theme=dark] .colab-df-convert {\n",
              "      background-color: #3B4455;\n",
              "      fill: #D2E3FC;\n",
              "    }\n",
              "\n",
              "    [theme=dark] .colab-df-convert:hover {\n",
              "      background-color: #434B5C;\n",
              "      box-shadow: 0px 1px 3px 1px rgba(0, 0, 0, 0.15);\n",
              "      filter: drop-shadow(0px 1px 2px rgba(0, 0, 0, 0.3));\n",
              "      fill: #FFFFFF;\n",
              "    }\n",
              "  </style>\n",
              "\n",
              "    <script>\n",
              "      const buttonEl =\n",
              "        document.querySelector('#df-df0ef4bc-1c17-4628-bc31-95e2c615d0a1 button.colab-df-convert');\n",
              "      buttonEl.style.display =\n",
              "        google.colab.kernel.accessAllowed ? 'block' : 'none';\n",
              "\n",
              "      async function convertToInteractive(key) {\n",
              "        const element = document.querySelector('#df-df0ef4bc-1c17-4628-bc31-95e2c615d0a1');\n",
              "        const dataTable =\n",
              "          await google.colab.kernel.invokeFunction('convertToInteractive',\n",
              "                                                    [key], {});\n",
              "        if (!dataTable) return;\n",
              "\n",
              "        const docLinkHtml = 'Like what you see? Visit the ' +\n",
              "          '<a target=\"_blank\" href=https://colab.research.google.com/notebooks/data_table.ipynb>data table notebook</a>'\n",
              "          + ' to learn more about interactive tables.';\n",
              "        element.innerHTML = '';\n",
              "        dataTable['output_type'] = 'display_data';\n",
              "        await google.colab.output.renderOutput(dataTable, element);\n",
              "        const docLink = document.createElement('div');\n",
              "        docLink.innerHTML = docLinkHtml;\n",
              "        element.appendChild(docLink);\n",
              "      }\n",
              "    </script>\n",
              "  </div>\n",
              "\n",
              "\n",
              "<div id=\"df-190b8f6a-23bc-47a3-96cb-49443719cf58\">\n",
              "  <button class=\"colab-df-quickchart\" onclick=\"quickchart('df-190b8f6a-23bc-47a3-96cb-49443719cf58')\"\n",
              "            title=\"Suggest charts\"\n",
              "            style=\"display:none;\">\n",
              "\n",
              "<svg xmlns=\"http://www.w3.org/2000/svg\" height=\"24px\"viewBox=\"0 0 24 24\"\n",
              "     width=\"24px\">\n",
              "    <g>\n",
              "        <path d=\"M19 3H5c-1.1 0-2 .9-2 2v14c0 1.1.9 2 2 2h14c1.1 0 2-.9 2-2V5c0-1.1-.9-2-2-2zM9 17H7v-7h2v7zm4 0h-2V7h2v10zm4 0h-2v-4h2v4z\"/>\n",
              "    </g>\n",
              "</svg>\n",
              "  </button>\n",
              "\n",
              "<style>\n",
              "  .colab-df-quickchart {\n",
              "      --bg-color: #E8F0FE;\n",
              "      --fill-color: #1967D2;\n",
              "      --hover-bg-color: #E2EBFA;\n",
              "      --hover-fill-color: #174EA6;\n",
              "      --disabled-fill-color: #AAA;\n",
              "      --disabled-bg-color: #DDD;\n",
              "  }\n",
              "\n",
              "  [theme=dark] .colab-df-quickchart {\n",
              "      --bg-color: #3B4455;\n",
              "      --fill-color: #D2E3FC;\n",
              "      --hover-bg-color: #434B5C;\n",
              "      --hover-fill-color: #FFFFFF;\n",
              "      --disabled-bg-color: #3B4455;\n",
              "      --disabled-fill-color: #666;\n",
              "  }\n",
              "\n",
              "  .colab-df-quickchart {\n",
              "    background-color: var(--bg-color);\n",
              "    border: none;\n",
              "    border-radius: 50%;\n",
              "    cursor: pointer;\n",
              "    display: none;\n",
              "    fill: var(--fill-color);\n",
              "    height: 32px;\n",
              "    padding: 0;\n",
              "    width: 32px;\n",
              "  }\n",
              "\n",
              "  .colab-df-quickchart:hover {\n",
              "    background-color: var(--hover-bg-color);\n",
              "    box-shadow: 0 1px 2px rgba(60, 64, 67, 0.3), 0 1px 3px 1px rgba(60, 64, 67, 0.15);\n",
              "    fill: var(--button-hover-fill-color);\n",
              "  }\n",
              "\n",
              "  .colab-df-quickchart-complete:disabled,\n",
              "  .colab-df-quickchart-complete:disabled:hover {\n",
              "    background-color: var(--disabled-bg-color);\n",
              "    fill: var(--disabled-fill-color);\n",
              "    box-shadow: none;\n",
              "  }\n",
              "\n",
              "  .colab-df-spinner {\n",
              "    border: 2px solid var(--fill-color);\n",
              "    border-color: transparent;\n",
              "    border-bottom-color: var(--fill-color);\n",
              "    animation:\n",
              "      spin 1s steps(1) infinite;\n",
              "  }\n",
              "\n",
              "  @keyframes spin {\n",
              "    0% {\n",
              "      border-color: transparent;\n",
              "      border-bottom-color: var(--fill-color);\n",
              "      border-left-color: var(--fill-color);\n",
              "    }\n",
              "    20% {\n",
              "      border-color: transparent;\n",
              "      border-left-color: var(--fill-color);\n",
              "      border-top-color: var(--fill-color);\n",
              "    }\n",
              "    30% {\n",
              "      border-color: transparent;\n",
              "      border-left-color: var(--fill-color);\n",
              "      border-top-color: var(--fill-color);\n",
              "      border-right-color: var(--fill-color);\n",
              "    }\n",
              "    40% {\n",
              "      border-color: transparent;\n",
              "      border-right-color: var(--fill-color);\n",
              "      border-top-color: var(--fill-color);\n",
              "    }\n",
              "    60% {\n",
              "      border-color: transparent;\n",
              "      border-right-color: var(--fill-color);\n",
              "    }\n",
              "    80% {\n",
              "      border-color: transparent;\n",
              "      border-right-color: var(--fill-color);\n",
              "      border-bottom-color: var(--fill-color);\n",
              "    }\n",
              "    90% {\n",
              "      border-color: transparent;\n",
              "      border-bottom-color: var(--fill-color);\n",
              "    }\n",
              "  }\n",
              "</style>\n",
              "\n",
              "  <script>\n",
              "    async function quickchart(key) {\n",
              "      const quickchartButtonEl =\n",
              "        document.querySelector('#' + key + ' button');\n",
              "      quickchartButtonEl.disabled = true;  // To prevent multiple clicks.\n",
              "      quickchartButtonEl.classList.add('colab-df-spinner');\n",
              "      try {\n",
              "        const charts = await google.colab.kernel.invokeFunction(\n",
              "            'suggestCharts', [key], {});\n",
              "      } catch (error) {\n",
              "        console.error('Error during call to suggestCharts:', error);\n",
              "      }\n",
              "      quickchartButtonEl.classList.remove('colab-df-spinner');\n",
              "      quickchartButtonEl.classList.add('colab-df-quickchart-complete');\n",
              "    }\n",
              "    (() => {\n",
              "      let quickchartButtonEl =\n",
              "        document.querySelector('#df-190b8f6a-23bc-47a3-96cb-49443719cf58 button');\n",
              "      quickchartButtonEl.style.display =\n",
              "        google.colab.kernel.accessAllowed ? 'block' : 'none';\n",
              "    })();\n",
              "  </script>\n",
              "</div>\n",
              "\n",
              "    </div>\n",
              "  </div>\n"
            ],
            "application/vnd.google.colaboratory.intrinsic+json": {
              "type": "dataframe",
              "variable_name": "df"
            }
          },
          "metadata": {},
          "execution_count": 13
        }
      ]
    },
    {
      "cell_type": "code",
      "source": [
        "df.shape\n",
        "df[\"price\"].fillna(0,inplace = True)"
      ],
      "metadata": {
        "id": "ftMBouWwn7xW"
      },
      "execution_count": 64,
      "outputs": []
    },
    {
      "cell_type": "code",
      "source": [
        "df.info()"
      ],
      "metadata": {
        "colab": {
          "base_uri": "https://localhost:8080/"
        },
        "id": "FgqiFjv4n_fi",
        "outputId": "3e68bb1c-b6cf-474f-f133-bf9de9702f87"
      },
      "execution_count": 17,
      "outputs": [
        {
          "output_type": "stream",
          "name": "stdout",
          "text": [
            "<class 'pandas.core.frame.DataFrame'>\n",
            "RangeIndex: 150930 entries, 0 to 150929\n",
            "Data columns (total 11 columns):\n",
            " #   Column       Non-Null Count   Dtype  \n",
            "---  ------       --------------   -----  \n",
            " 0   Unnamed: 0   150930 non-null  int64  \n",
            " 1   country      150925 non-null  object \n",
            " 2   description  150930 non-null  object \n",
            " 3   designation  105195 non-null  object \n",
            " 4   points       150930 non-null  int64  \n",
            " 5   price        137235 non-null  float64\n",
            " 6   province     150925 non-null  object \n",
            " 7   region_1     125870 non-null  object \n",
            " 8   region_2     60953 non-null   object \n",
            " 9   variety      150930 non-null  object \n",
            " 10  winery       150930 non-null  object \n",
            "dtypes: float64(1), int64(2), object(8)\n",
            "memory usage: 12.7+ MB\n"
          ]
        }
      ]
    },
    {
      "cell_type": "code",
      "source": [],
      "metadata": {
        "colab": {
          "base_uri": "https://localhost:8080/"
        },
        "id": "8oZp3WePokUW",
        "outputId": "da3a5d9d-5a00-4402-ee13-4d64f0ae7754"
      },
      "execution_count": 25,
      "outputs": [
        {
          "output_type": "stream",
          "name": "stdout",
          "text": [
            "Unique values ofUnnamed: 0\n",
            "Unnamed: 0\n",
            "0         1\n",
            "100632    1\n",
            "100616    1\n",
            "100617    1\n",
            "100618    1\n",
            "         ..\n",
            "50310     1\n",
            "50311     1\n",
            "50312     1\n",
            "50313     1\n",
            "150929    1\n",
            "Name: count, Length: 150930, dtype: int64\n",
            "Unique values ofcountry\n",
            "country\n",
            "US                        62397\n",
            "Italy                     23478\n",
            "France                    21098\n",
            "Spain                      8268\n",
            "Chile                      5816\n",
            "Argentina                  5631\n",
            "Portugal                   5322\n",
            "Australia                  4957\n",
            "New Zealand                3320\n",
            "Austria                    3057\n",
            "Germany                    2452\n",
            "South Africa               2258\n",
            "Greece                      884\n",
            "Israel                      630\n",
            "Hungary                     231\n",
            "Canada                      196\n",
            "Romania                     139\n",
            "Slovenia                     94\n",
            "Uruguay                      92\n",
            "Croatia                      89\n",
            "Bulgaria                     77\n",
            "Moldova                      71\n",
            "Mexico                       63\n",
            "Turkey                       52\n",
            "Georgia                      43\n",
            "Lebanon                      37\n",
            "Cyprus                       31\n",
            "Brazil                       25\n",
            "Macedonia                    16\n",
            "Serbia                       14\n",
            "Morocco                      12\n",
            "England                       9\n",
            "Luxembourg                    9\n",
            "Lithuania                     8\n",
            "India                         8\n",
            "Czech Republic                6\n",
            "Ukraine                       5\n",
            "Switzerland                   4\n",
            "South Korea                   4\n",
            "Bosnia and Herzegovina        4\n",
            "China                         3\n",
            "Egypt                         3\n",
            "Slovakia                      3\n",
            "Tunisia                       2\n",
            "Albania                       2\n",
            "Montenegro                    2\n",
            "Japan                         2\n",
            "US-France                     1\n",
            "Name: count, dtype: int64\n",
            "Unique values ofdescription\n",
            "description\n",
            "A little bit funky and unsettled when you pop the screwcap, but soon it finds its floral, blueberry base. Remains superficial and sweet in the mouth, with candied flavors, vanilla and mild oak. Highly regular; could use more concentration and density.                                                                                                                                                                           6\n",
            "Powerful in Zinny character, this blend of Dry Creek and Russian River grapes bursts with brawny flavors of wild berries, chocolate-covered mint, tobacco and pepper, wrapped into sturdy tannins. Shows real class and character.                                                                                                                                                                                                    6\n",
            "92-94 Barrel sample. A rounded wine, its tannins submerged into the ripe fruits. It feels soft, and there is just a bite of alcohol. The structure is soft, generous, opulent.                                                                                                                                                                                                                                                        6\n",
            "86-88 This could work as a rich wine, because there is good structure and piles of botrytis. It could be delicious, with its lovely dry finish, but that's for the future.                                                                                                                                                                                                                                                            6\n",
            "Sweet cherry and baking vanilla aromas are followed by layers of plum, raspberry and spice in this kosher Bordeaux blend from Israel. The wine offers firm tannins and a lingering finish.                                                                                                                                                                                                                                            5\n",
            "                                                                                                                                                                                                                                                                                                                                                                                                                                     ..\n",
            "The nose on this blend of Syrah, Cabernet Sauvignon and Carmenère is herbal and a touch mulchy, with berry, coffee and olive aromas. The palate feels thick and on the cusp of syrupy, with baked, creamy black-fruit flavors that bring carob, chocolate and herbs accents to a modest finish. This is ripe in feel but still smells and tastes a bit herbal.                                                                        1\n",
            "The Acrobat bottling is one of Oregon's best sub-$20 Pinot Noirs, and a fine example of what might be called “new wave” styling. It's sleek, nervy, built on a spine of steel rather than wood. The bright berry fruit carries a pleasing hint of chocolate.                                                                                                                                                                          1\n",
            "This is one of Lynmar's most expensive Chardonnays, of their six 2011s. It's also one of the most forward and oakiest. Your first impression is of sweet buttered toast, sprinkled with brown sugar and drizzled with melted butterscotch. Then the tropical fruits kick in, brightened with citrusy acids. It's an impressive feat, but the wine feels overworked, and lacks the sustaining interest of Lynmar's other bottlings.    1\n",
            "The nose sends up signals of a balanced, easygoing wine with oak blended nicely into pear and apple fruit. The palate is lively and mildly oaky, with baked apple, orange and woodspice flavors. A snappy, oaky finish with intense acidity closes the show.                                                                                                                                                                          1\n",
            "Smooth in the mouth, this Chard starts off with citrus and dust aromas with a light edging of cake frosting. In the mouth, it's tauter and more austere than it usually is. Clean and not a vibrant wine, but that's a matter of preference. Imported by Pernod Ricard USA.                                                                                                                                                           1\n",
            "Name: count, Length: 97821, dtype: int64\n",
            "Unique values ofdesignation\n",
            "designation\n",
            "Reserve                                   2752\n",
            "Reserva                                   1810\n",
            "Estate                                    1571\n",
            "Barrel sample                             1326\n",
            "Riserva                                    754\n",
            "                                          ... \n",
            "Domaine Saint-Sernin Fare Saint-Sernin       1\n",
            "The Score                                    1\n",
            "La Terraza Bloc Reserve                      1\n",
            "Alte d'Altesi                                1\n",
            "Bungalow Red                                 1\n",
            "Name: count, Length: 30621, dtype: int64\n",
            "Unique values ofpoints\n",
            "points\n",
            "87     20747\n",
            "88     17871\n",
            "90     15973\n",
            "86     15573\n",
            "89     12921\n",
            "85     12411\n",
            "84     10708\n",
            "91     10536\n",
            "92      9241\n",
            "83      6048\n",
            "93      6017\n",
            "82      4041\n",
            "94      3462\n",
            "95      1716\n",
            "81      1502\n",
            "80       898\n",
            "96       695\n",
            "97       365\n",
            "98       131\n",
            "99        50\n",
            "100       24\n",
            "Name: count, dtype: int64\n",
            "Unique values ofprice\n",
            "price\n",
            "20.0     7860\n",
            "15.0     7056\n",
            "18.0     5988\n",
            "25.0     5955\n",
            "30.0     5449\n",
            "         ... \n",
            "612.0       1\n",
            "271.0       1\n",
            "448.0       1\n",
            "292.0       1\n",
            "217.0       1\n",
            "Name: count, Length: 357, dtype: int64\n",
            "Unique values ofprovince\n",
            "province\n",
            "California                       44508\n",
            "Washington                        9750\n",
            "Tuscany                           7281\n",
            "Bordeaux                          6111\n",
            "Northern Spain                    4892\n",
            "                                 ...  \n",
            "Pafos                                1\n",
            "Central Otago-Marlborough            1\n",
            "Maipo Valley-Colchagua Valley        1\n",
            "Colchagua Costa                      1\n",
            "Stirling                             1\n",
            "Name: count, Length: 455, dtype: int64\n",
            "Unique values ofregion_1\n",
            "region_1\n",
            "Napa Valley                  6209\n",
            "Columbia Valley (WA)         4975\n",
            "Mendoza                      3586\n",
            "Russian River Valley         3571\n",
            "California                   3462\n",
            "                             ... \n",
            "Alpilles                        1\n",
            "Vin de Pays de Hauterive        1\n",
            "Santa Barbara-Monterey          1\n",
            "Sonoma County-Lake County       1\n",
            "Coteaux du Tricastin            1\n",
            "Name: count, Length: 1236, dtype: int64\n",
            "Unique values ofregion_2\n",
            "region_2\n",
            "Central Coast              13057\n",
            "Sonoma                     11258\n",
            "Columbia Valley             9157\n",
            "Napa                        8801\n",
            "California Other            3516\n",
            "Willamette Valley           3181\n",
            "Mendocino/Lake Counties     2389\n",
            "Sierra Foothills            1660\n",
            "Napa-Sonoma                 1645\n",
            "Finger Lakes                1510\n",
            "Central Valley              1115\n",
            "Long Island                  771\n",
            "Southern Oregon              662\n",
            "Oregon Other                 661\n",
            "North Coast                  632\n",
            "Washington Other             593\n",
            "South Coast                  198\n",
            "New York Other               147\n",
            "Name: count, dtype: int64\n",
            "Unique values ofvariety\n",
            "variety\n",
            "Chardonnay                  14482\n",
            "Pinot Noir                  14291\n",
            "Cabernet Sauvignon          12800\n",
            "Red Blend                   10062\n",
            "Bordeaux-style Red Blend     7347\n",
            "                            ...  \n",
            "Carignan-Syrah                  1\n",
            "Premsal                         1\n",
            "Muskat                          1\n",
            "Syrah-Carignan                  1\n",
            "Carnelian                       1\n",
            "Name: count, Length: 632, dtype: int64\n",
            "Unique values ofwinery\n",
            "winery\n",
            "Williams Selyem          374\n",
            "Testarossa               274\n",
            "DFJ Vinhos               258\n",
            "Chateau Ste. Michelle    225\n",
            "Columbia Crest           217\n",
            "                        ... \n",
            "Republic of Wine           1\n",
            "Prince Michel              1\n",
            "Glass House                1\n",
            "Jones von Drehle           1\n",
            "White Knot                 1\n",
            "Name: count, Length: 14810, dtype: int64\n"
          ]
        }
      ]
    },
    {
      "cell_type": "markdown",
      "source": [
        "# Measure of Central Tendency for - Points & price columns:\n"
      ],
      "metadata": {
        "id": "QQ9VaxPZtp8L"
      }
    },
    {
      "cell_type": "code",
      "source": [
        "# Mean\n",
        "print(f\"Points mean {df['points'].mean()}\")\n",
        "print(f\"Price mean {df['price'].mean()}\")"
      ],
      "metadata": {
        "colab": {
          "base_uri": "https://localhost:8080/"
        },
        "id": "RLNNS9fYpE-p",
        "outputId": "f78be478-f6a5-4890-9902-ffd696b29a42"
      },
      "execution_count": 32,
      "outputs": [
        {
          "output_type": "stream",
          "name": "stdout",
          "text": [
            "Points mean 87.8884184721394\n",
            "Price mean 33.13148249353299\n"
          ]
        }
      ]
    },
    {
      "cell_type": "code",
      "source": [
        "# Median\n",
        "print(df[\"points\"].median())\n",
        "df[\"price\"].median()"
      ],
      "metadata": {
        "colab": {
          "base_uri": "https://localhost:8080/"
        },
        "id": "VSAIQ4DIAo99",
        "outputId": "54eab265-c107-44de-a835-b85f7e3dbfee"
      },
      "execution_count": 33,
      "outputs": [
        {
          "output_type": "stream",
          "name": "stdout",
          "text": [
            "88.0\n"
          ]
        },
        {
          "output_type": "execute_result",
          "data": {
            "text/plain": [
              "24.0"
            ]
          },
          "metadata": {},
          "execution_count": 33
        }
      ]
    },
    {
      "cell_type": "code",
      "source": [
        "# Mode\n",
        "print(df[\"points\"].mode())\n",
        "df[\"price\"].mode()"
      ],
      "metadata": {
        "colab": {
          "base_uri": "https://localhost:8080/"
        },
        "id": "Lfa-ZI-3AzyG",
        "outputId": "73224a01-08f6-4992-d9b8-3022052c29b8"
      },
      "execution_count": 35,
      "outputs": [
        {
          "output_type": "stream",
          "name": "stdout",
          "text": [
            "0    87\n",
            "Name: points, dtype: int64\n"
          ]
        },
        {
          "output_type": "execute_result",
          "data": {
            "text/plain": [
              "0    20.0\n",
              "Name: price, dtype: float64"
            ]
          },
          "metadata": {},
          "execution_count": 35
        }
      ]
    },
    {
      "cell_type": "markdown",
      "source": [
        "# Measure of Spread for - Points & price columns:\n"
      ],
      "metadata": {
        "id": "07TJLGFcBF4u"
      }
    },
    {
      "cell_type": "code",
      "source": [
        "# Variance\n",
        "print(df[\"points\"].var())\n",
        "df[\"price\"].var()"
      ],
      "metadata": {
        "colab": {
          "base_uri": "https://localhost:8080/"
        },
        "id": "1T6EhqrzA8j5",
        "outputId": "407c1989-7830-4b57-b2f4-c05f4bb1be7c"
      },
      "execution_count": 36,
      "outputs": [
        {
          "output_type": "stream",
          "name": "stdout",
          "text": [
            "10.383808648366449\n"
          ]
        },
        {
          "output_type": "execute_result",
          "data": {
            "text/plain": [
              "1319.3266357454181"
            ]
          },
          "metadata": {},
          "execution_count": 36
        }
      ]
    },
    {
      "cell_type": "code",
      "source": [
        "# std - ecar type\n",
        "print( df[\"points\"].std())\n",
        "df[\"price\"].std()"
      ],
      "metadata": {
        "colab": {
          "base_uri": "https://localhost:8080/"
        },
        "id": "qd-jZv57Brdn",
        "outputId": "f38fc04e-279f-4eb4-9e52-c64d687a53d0"
      },
      "execution_count": 39,
      "outputs": [
        {
          "output_type": "stream",
          "name": "stdout",
          "text": [
            "3.22239175898376\n"
          ]
        },
        {
          "output_type": "execute_result",
          "data": {
            "text/plain": [
              "36.322536196491264"
            ]
          },
          "metadata": {},
          "execution_count": 39
        }
      ]
    },
    {
      "cell_type": "code",
      "source": [
        "# Skewness\n",
        "print(stat.skew(df[\"points\"]))\n",
        "print(stat.skew(df[\"price\"]))\n",
        "\n",
        "#df[\"price\"].shape[0]- df[\"price\"].isnull().sum()"
      ],
      "metadata": {
        "colab": {
          "base_uri": "https://localhost:8080/"
        },
        "id": "sC31DZXVCkQ-",
        "outputId": "09e2c66b-f78f-4068-b49e-0d8fd2c480b8"
      },
      "execution_count": 65,
      "outputs": [
        {
          "output_type": "stream",
          "name": "stdout",
          "text": [
            "0.14283121423675518\n",
            "11.294174402608324\n"
          ]
        }
      ]
    },
    {
      "cell_type": "code",
      "source": [
        "# Kurtosis:\n",
        "# Fischer's Kurtosis :\n",
        "print(stat.kurtosis(df[\"points\"]))\n",
        "print(stat.kurtosis(df[\"price\"]))\n",
        "# Person Kurtosis :\n",
        "print(stat.kurtosis(df[\"points\"],fisher = False))\n",
        "print(stat.kurtosis(df[\"price\"],fisher = False))"
      ],
      "metadata": {
        "colab": {
          "base_uri": "https://localhost:8080/"
        },
        "id": "vflfULaTEX6Z",
        "outputId": "dd1346e9-d309-4289-efee-5692fa430327"
      },
      "execution_count": 66,
      "outputs": [
        {
          "output_type": "stream",
          "name": "stdout",
          "text": [
            "-0.2864463416644991\n",
            "358.12920636513667\n",
            "2.713553658335501\n",
            "361.12920636513667\n"
          ]
        }
      ]
    },
    {
      "cell_type": "markdown",
      "source": [
        "# Z-Score"
      ],
      "metadata": {
        "id": "l_7X4tbnG144"
      }
    },
    {
      "cell_type": "code",
      "source": [
        "print(stat.zscore(df[\"points\"]))\n",
        "print(stat.zscore(df[\"price\"]))\n",
        "df[\"price\"]"
      ],
      "metadata": {
        "colab": {
          "base_uri": "https://localhost:8080/"
        },
        "id": "0rWtOO4rGvtj",
        "outputId": "91375da0-bed0-4d77-af1b-71e72dd329f2"
      },
      "execution_count": 67,
      "outputs": [
        {
          "output_type": "stream",
          "name": "stdout",
          "text": [
            "0         2.517263\n",
            "1         2.517263\n",
            "2         2.517263\n",
            "3         2.517263\n",
            "4         2.206934\n",
            "            ...   \n",
            "150925    0.965616\n",
            "150926    0.965616\n",
            "150927    0.965616\n",
            "150928    0.655286\n",
            "150929    0.655286\n",
            "Name: points, Length: 150930, dtype: float64\n",
            "0         5.703810\n",
            "1         2.223751\n",
            "2         1.666942\n",
            "3         0.970930\n",
            "4         0.998771\n",
            "            ...   \n",
            "150925   -0.281891\n",
            "150926   -0.087008\n",
            "150927   -0.281891\n",
            "150928    0.609004\n",
            "150929   -0.421093\n",
            "Name: price, Length: 150930, dtype: float64\n"
          ]
        },
        {
          "output_type": "execute_result",
          "data": {
            "text/plain": [
              "0         235.0\n",
              "1         110.0\n",
              "2          90.0\n",
              "3          65.0\n",
              "4          66.0\n",
              "          ...  \n",
              "150925     20.0\n",
              "150926     27.0\n",
              "150927     20.0\n",
              "150928     52.0\n",
              "150929     15.0\n",
              "Name: price, Length: 150930, dtype: float64"
            ]
          },
          "metadata": {},
          "execution_count": 67
        }
      ]
    },
    {
      "cell_type": "markdown",
      "source": [
        "# IQR"
      ],
      "metadata": {
        "id": "Qz9cG7h-Il9M"
      }
    },
    {
      "cell_type": "code",
      "source": [
        "stat.iqr(df[\"points\"])"
      ],
      "metadata": {
        "colab": {
          "base_uri": "https://localhost:8080/"
        },
        "id": "oQQHoRNWHtbI",
        "outputId": "d32a85dc-4621-4148-c7e2-dd8c4b72d886"
      },
      "execution_count": 68,
      "outputs": [
        {
          "output_type": "execute_result",
          "data": {
            "text/plain": [
              "4.0"
            ]
          },
          "metadata": {},
          "execution_count": 68
        }
      ]
    },
    {
      "cell_type": "code",
      "source": [
        "stat.iqr(df[\"price\"])"
      ],
      "metadata": {
        "colab": {
          "base_uri": "https://localhost:8080/"
        },
        "id": "aoDtJv55IsHX",
        "outputId": "085fb9b7-1931-4d63-beeb-dda9b8ca12b7"
      },
      "execution_count": 69,
      "outputs": [
        {
          "output_type": "execute_result",
          "data": {
            "text/plain": [
              "24.0"
            ]
          },
          "metadata": {},
          "execution_count": 69
        }
      ]
    },
    {
      "cell_type": "code",
      "source": [],
      "metadata": {
        "id": "ks2sdBOLIu2z"
      },
      "execution_count": null,
      "outputs": []
    }
  ]
}